{
  "nbformat": 4,
  "nbformat_minor": 0,
  "metadata": {
    "colab": {
      "name": "Untitled7.ipynb",
      "provenance": [],
      "collapsed_sections": [],
      "authorship_tag": "ABX9TyOv3c4+O4/NV5/dUm24wSpc",
      "include_colab_link": true
    },
    "kernelspec": {
      "display_name": "Python 3",
      "name": "python3"
    }
  },
  "cells": [
    {
      "cell_type": "markdown",
      "metadata": {
        "id": "view-in-github",
        "colab_type": "text"
      },
      "source": [
        "<a href=\"https://colab.research.google.com/github/dbsrlskfdk/boj-algorithm/blob/main/boj-2166.ipynb\" target=\"_parent\"><img src=\"https://colab.research.google.com/assets/colab-badge.svg\" alt=\"Open In Colab\"/></a>"
      ]
    },
    {
      "cell_type": "code",
      "metadata": {
        "colab": {
          "base_uri": "https://localhost:8080/"
        },
        "id": "aAMnxOnFpdvY",
        "outputId": "7fdcbbaf-5d68-4b9c-b9fe-c4c29273842e"
      },
      "source": [
        "N = int(input())\n",
        "coordinates = [list(map(int, input().split(\" \"))) for _ in range(N)]"
      ],
      "execution_count": 34,
      "outputs": [
        {
          "name": "stdout",
          "output_type": "stream",
          "text": [
            "4\n",
            "0 0\n",
            "0 10\n",
            "10 10\n",
            "10 0\n"
          ]
        }
      ]
    },
    {
      "cell_type": "code",
      "metadata": {
        "id": "1txVwCxRpnlv"
      },
      "source": [
        "sum = 0\n",
        "for i in range(N-1):\n",
        "    sum += coordinates[i][0] * coordinates[i+1][1]\n",
        "    sum -= coordinates[i+1][0] * coordinates[i][1]\n",
        "sum += coordinates[N-1][0] * coordinates[0][1]\n",
        "sum -= coordinates[0][0] * coordinates[N-1][1]\n",
        "\n",
        "sum = abs(sum) / 2"
      ],
      "execution_count": 36,
      "outputs": []
    },
    {
      "cell_type": "code",
      "metadata": {
        "colab": {
          "base_uri": "https://localhost:8080/"
        },
        "id": "g3C0mVnIp7JP",
        "outputId": "c1f7d296-0e69-4150-8cee-f290657b49a9"
      },
      "source": [
        "print(sum)"
      ],
      "execution_count": 37,
      "outputs": [
        {
          "output_type": "stream",
          "name": "stdout",
          "text": [
            "100.0\n"
          ]
        }
      ]
    }
  ]
}